{
 "cells": [
  {
   "cell_type": "markdown",
   "metadata": {},
   "source": [
    "# Step 3: Multiple Imputation by Chained Equations (MICE)"
   ]
  },
  {
   "cell_type": "code",
   "execution_count": null,
   "metadata": {},
   "outputs": [],
   "source": [
    "from ml_tools.MICE_imputation import run_mice_pipeline\n",
    "from paths import FEATURE_ENG_DATASETS_DIR, MICE_DATASETS_DIR, MICE_METRICS_DIR, SERIALIZED_BINARY_FILE\n",
    "from helpers.constants import TARGETS\n",
    "from ml_tools.utilities import deserialize_object"
   ]
  },
  {
   "cell_type": "code",
   "execution_count": null,
   "metadata": {},
   "outputs": [],
   "source": [
    "binary_columns: list[str]\n",
    "binary_columns = deserialize_object(filepath=SERIALIZED_BINARY_FILE) # type: ignore"
   ]
  },
  {
   "cell_type": "code",
   "execution_count": null,
   "metadata": {},
   "outputs": [],
   "source": [
    "run_mice_pipeline(df_path_or_dir=FEATURE_ENG_DATASETS_DIR,\n",
    "                  target_columns=TARGETS,\n",
    "                  save_datasets_dir=MICE_DATASETS_DIR,\n",
    "                  save_metrics_dir=MICE_METRICS_DIR,\n",
    "                  binary_columns=binary_columns,\n",
    "                  iterations=30)"
   ]
  }
 ],
 "metadata": {
  "kernelspec": {
   "display_name": "battery",
   "language": "python",
   "name": "python3"
  },
  "language_info": {
   "codemirror_mode": {
    "name": "ipython",
    "version": 3
   },
   "file_extension": ".py",
   "mimetype": "text/x-python",
   "name": "python",
   "nbconvert_exporter": "python",
   "pygments_lexer": "ipython3",
   "version": "3.12.10"
  }
 },
 "nbformat": 4,
 "nbformat_minor": 2
}
