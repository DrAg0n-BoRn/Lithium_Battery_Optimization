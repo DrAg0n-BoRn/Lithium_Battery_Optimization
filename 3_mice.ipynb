{
 "cells": [
  {
   "cell_type": "markdown",
   "metadata": {},
   "source": [
    "# Step 3: Multiple Imputation by Chained Equations (MICE)"
   ]
  },
  {
   "cell_type": "code",
   "execution_count": null,
   "metadata": {},
   "outputs": [],
   "source": [
    "from ml_tools.MICE_imputation import run_mice_pipeline\n",
    "from paths import DATA_DIR, ENGINEERED_CSVS_DIR, MICE_IMPUTED_DATASETS_DIR, MICE_METRICS_DIR\n",
    "from helpers.constants import TARGETS\n",
    "from ml_tools.utilities import deserialize_object\n",
    "import os"
   ]
  },
  {
   "cell_type": "code",
   "execution_count": null,
   "metadata": {},
   "outputs": [],
   "source": [
    "binary_columns_path = os.path.join(DATA_DIR, \"BINARY_COLUMNS_list.joblib\")\n",
    "binary_columns = deserialize_object(filepath=binary_columns_path)"
   ]
  },
  {
   "cell_type": "code",
   "execution_count": null,
   "metadata": {},
   "outputs": [],
   "source": [
    "run_mice_pipeline(df_path_or_dir=ENGINEERED_CSVS_DIR,\n",
    "                  target_columns=TARGETS,\n",
    "                  save_datasets_dir=MICE_IMPUTED_DATASETS_DIR,\n",
    "                  save_metrics_dir=MICE_METRICS_DIR,\n",
    "                  binary_columns=binary_columns,\n",
    "                  iterations=30)"
   ]
  }
 ],
 "metadata": {
  "kernelspec": {
   "display_name": "battery",
   "language": "python",
   "name": "python3"
  },
  "language_info": {
   "codemirror_mode": {
    "name": "ipython",
    "version": 3
   },
   "file_extension": ".py",
   "mimetype": "text/x-python",
   "name": "python",
   "nbconvert_exporter": "python",
   "pygments_lexer": "ipython3",
   "version": "3.12.10"
  }
 },
 "nbformat": 4,
 "nbformat_minor": 2
}
