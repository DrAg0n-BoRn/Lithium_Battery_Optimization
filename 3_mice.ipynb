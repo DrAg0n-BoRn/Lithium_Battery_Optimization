{
 "cells": [
  {
   "cell_type": "markdown",
   "metadata": {},
   "source": [
    "# Step 3: Multiple Imputation by Chained Equations (MICE)"
   ]
  },
  {
   "cell_type": "code",
   "execution_count": null,
   "metadata": {},
   "outputs": [],
   "source": [
    "from test import run_mice_pipeline\n",
    "\n",
    "from paths import ENGINEERED_CSV_FILE, MICE_IMPUTED_DATASETS_DIR, MICE_METRICS_DIR"
   ]
  },
  {
   "cell_type": "code",
   "execution_count": null,
   "metadata": {},
   "outputs": [],
   "source": [
    "run_mice_pipeline(df_path=ENGINEERED_CSV_FILE,\n",
    "                  save_datasets_dir=MICE_IMPUTED_DATASETS_DIR,\n",
    "                  save_metrics_dir=MICE_METRICS_DIR)"
   ]
  }
 ],
 "metadata": {
  "kernelspec": {
   "display_name": "thyroid",
   "language": "python",
   "name": "python3"
  },
  "language_info": {
   "codemirror_mode": {
    "name": "ipython",
    "version": 3
   },
   "file_extension": ".py",
   "mimetype": "text/x-python",
   "name": "python",
   "nbconvert_exporter": "python",
   "pygments_lexer": "ipython3",
   "version": "3.12.10"
  }
 },
 "nbformat": 4,
 "nbformat_minor": 2
}
