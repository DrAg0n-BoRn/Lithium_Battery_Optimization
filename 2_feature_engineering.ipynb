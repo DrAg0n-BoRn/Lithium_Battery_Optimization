{
 "cells": [
  {
   "cell_type": "markdown",
   "id": "17d6c795",
   "metadata": {},
   "source": [
    "# 2. Feature Engineering"
   ]
  },
  {
   "cell_type": "code",
   "execution_count": null,
   "id": "b8125c95",
   "metadata": {},
   "outputs": [],
   "source": [
    "import pandas as pd\n",
    "\n",
    "from paths import PROCESSED_CSV_FILE, ENGINEERED_CSV_FILE, FEATURE_ENG_DIR\n",
    "from ml_tools.data_exploration import info\n",
    "info(full_info=False)"
   ]
  },
  {
   "cell_type": "code",
   "execution_count": null,
   "id": "243c7737",
   "metadata": {},
   "outputs": [],
   "source": [
    "from ml_tools.data_exploration import get_features_targets, summarize_dataframe, show_null_columns, drop_columns_with_missing_data, clip_outliers_multi, plot_correlation_heatmap, check_value_distributions, plot_value_distributions, merge_dataframes, split_continuous_and_binary, save_dataframe"
   ]
  },
  {
   "cell_type": "markdown",
   "id": "d026ca6b",
   "metadata": {},
   "source": [
    "## 1. Get datasets with Splits (Features, Target)"
   ]
  },
  {
   "cell_type": "code",
   "execution_count": null,
   "id": "d938c4f4",
   "metadata": {},
   "outputs": [],
   "source": [
    "TARGETS = [\"capacity\", \"capacity retention\", \"first coulombic efficiency\"]\n",
    "df, df_targets, df_features = get_features_targets(df_path=PROCESSED_CSV_FILE, targets=TARGETS)"
   ]
  },
  {
   "cell_type": "markdown",
   "id": "674a9b86",
   "metadata": {},
   "source": [
    "## 2. Explore Data"
   ]
  },
  {
   "cell_type": "code",
   "execution_count": null,
   "id": "70c9584b",
   "metadata": {},
   "outputs": [],
   "source": [
    "summarize_dataframe(df_features)"
   ]
  },
  {
   "cell_type": "code",
   "execution_count": null,
   "id": "c5718bb4",
   "metadata": {},
   "outputs": [],
   "source": [
    "summarize_dataframe(df_targets)"
   ]
  },
  {
   "cell_type": "markdown",
   "id": "c92349e7",
   "metadata": {},
   "source": [
    "## 3. Null values"
   ]
  },
  {
   "cell_type": "code",
   "execution_count": null,
   "id": "fa4e31b0",
   "metadata": {},
   "outputs": [],
   "source": [
    "show_null_columns(df_features)"
   ]
  },
  {
   "cell_type": "code",
   "execution_count": null,
   "id": "5fe454b8",
   "metadata": {},
   "outputs": [],
   "source": [
    "show_null_columns(df_targets)"
   ]
  },
  {
   "cell_type": "markdown",
   "id": "f915e78d",
   "metadata": {},
   "source": [
    "Drop columns with too many Null values from the main dataframe"
   ]
  },
  {
   "cell_type": "code",
   "execution_count": null,
   "id": "210e1aaa",
   "metadata": {},
   "outputs": [],
   "source": [
    "df_lessnulls_features = drop_columns_with_missing_data(df_features, threshold=0.7)\n",
    "show_null_columns(df_lessnulls_features)"
   ]
  },
  {
   "cell_type": "markdown",
   "id": "e539318b",
   "metadata": {},
   "source": [
    "## 4. Split features: Continuous - Binary"
   ]
  },
  {
   "cell_type": "code",
   "execution_count": null,
   "id": "f36bee5f",
   "metadata": {},
   "outputs": [],
   "source": [
    "df_lessnulls_features_cont, df_lessnulls_features_bin = split_continuous_and_binary(df=df_lessnulls_features)"
   ]
  },
  {
   "cell_type": "markdown",
   "id": "f49dbb39",
   "metadata": {},
   "source": [
    "## 5. Value Distributions"
   ]
  },
  {
   "cell_type": "code",
   "execution_count": null,
   "id": "ae3461b4",
   "metadata": {},
   "outputs": [],
   "source": [
    "check_value_distributions(df=df_lessnulls_features_cont, skip_cols_with_key=\"ratio\")"
   ]
  },
  {
   "cell_type": "code",
   "execution_count": null,
   "id": "95d23059",
   "metadata": {},
   "outputs": [],
   "source": [
    "check_value_distributions(df=df_targets)"
   ]
  },
  {
   "cell_type": "markdown",
   "id": "03cf7176",
   "metadata": {},
   "source": [
    "Plot all distributions to get correct clip values (except binary columns)"
   ]
  },
  {
   "cell_type": "code",
   "execution_count": null,
   "id": "271b287c",
   "metadata": {},
   "outputs": [],
   "source": [
    "plot_value_distributions(df=df_lessnulls_features_cont, save_dir=FEATURE_ENG_DIR)"
   ]
  },
  {
   "cell_type": "code",
   "execution_count": null,
   "id": "5a21ef3e",
   "metadata": {},
   "outputs": [],
   "source": [
    "plot_value_distributions(df=df_targets, save_dir=FEATURE_ENG_DIR)"
   ]
  },
  {
   "cell_type": "markdown",
   "id": "87da4fb8",
   "metadata": {},
   "source": [
    "## 6. Clip values"
   ]
  },
  {
   "cell_type": "markdown",
   "id": "fb6bcc29",
   "metadata": {},
   "source": [
    "Use maximum and minimum values to clip outliers"
   ]
  },
  {
   "cell_type": "code",
   "execution_count": null,
   "id": "7f3935a5",
   "metadata": {},
   "outputs": [],
   "source": [
    "features_clip_dict = {\"primary particle size\": (0.0,30.0),\n",
    "                      \"secondary particle size\": (0.0,30.0),\n",
    "                      \"annealing temperature 1\": (650.0,1225.0),\n",
    "                      \"annealing temperature 2\": (650.0,1225.0),\n",
    "                      \"annealing time 1\": (1.0,48.0),\n",
    "                      \"annealing time 2\": (1.0,48.0),\n",
    "                      \"average voltage\": (1.0,5.0),\n",
    "                      \"electrolyte molarity\": (0.1,5.0),\n",
    "                      \"cycles\": (5,3500),\n",
    "                    #   \"ratio_Li\": (0.0,4.0),\n",
    "                    #   \"ratio_Na\": (0.0,4.0),\n",
    "                    #   \"ratio_Mg\": (0.0,4.0),\n",
    "                    #   \"ratio_Ti\": (0.0,4.0),\n",
    "                    #   \"ratio_Mn\": (0.0,4.0),\n",
    "                    #   \"ratio_Fe\": (0.0,4.0),\n",
    "                    #   \"ratio_Co\": (0.0,4.0),\n",
    "                    #   \"ratio_Ni\": (0.0,4.0),\n",
    "                    #   \"ratio_O\": (0.0,4.0),\n",
    "                    #   \"ratio_F\": (0.0,4.0),\n",
    "                    #   \"ratio_P\": (0.0,4.0),\n",
    "                    #   \"ratio_S\": (0.0,4.0),\n",
    "                    #   \"ratio_Al\": (0.0,4.0),\n",
    "                    #   \"ratio_Si\": (0.0,4.0),\n",
    "                    #   \"ratio_Zr\": (0.0,4.0),\n",
    "                    #   \"ratio_Nb\": (0.0,4.0),\n",
    "                    #   \"ratio_Sn\": (0.0,4.0),\n",
    "                    #   \"ratio_C\": (0.0,4.0)\n",
    "                      }\n",
    "\n",
    "df_lessnulls_clip_features_cont = clip_outliers_multi(df=df_lessnulls_features_cont, clip_dict=features_clip_dict,)"
   ]
  },
  {
   "cell_type": "markdown",
   "id": "2986f211",
   "metadata": {},
   "source": [
    "## 7. Correlation Heatmap"
   ]
  },
  {
   "cell_type": "markdown",
   "id": "9df02933",
   "metadata": {},
   "source": [
    "Continuous features"
   ]
  },
  {
   "cell_type": "code",
   "execution_count": null,
   "id": "0dbf1542",
   "metadata": {},
   "outputs": [],
   "source": [
    "plot_correlation_heatmap(df=df_lessnulls_clip_features_cont, save_dir=FEATURE_ENG_DIR, plot_title=\"Continuous Features Correlation Heatmap\")"
   ]
  },
  {
   "cell_type": "markdown",
   "id": "7b6ef7e4",
   "metadata": {},
   "source": [
    "Binary features"
   ]
  },
  {
   "cell_type": "code",
   "execution_count": null,
   "id": "c7128587",
   "metadata": {},
   "outputs": [],
   "source": [
    "plot_correlation_heatmap(df=df_lessnulls_features_bin, save_dir=FEATURE_ENG_DIR, plot_title=\"Binary Features Correlation Heatmap\")"
   ]
  },
  {
   "cell_type": "markdown",
   "id": "3b29a796",
   "metadata": {},
   "source": [
    "## 8. Merge and Save Dataset"
   ]
  },
  {
   "cell_type": "code",
   "execution_count": null,
   "id": "25e64462",
   "metadata": {},
   "outputs": [],
   "source": [
    "processed_df = merge_dataframes(df_lessnulls_clip_features_cont, df_lessnulls_features_bin, df_targets)"
   ]
  },
  {
   "cell_type": "code",
   "execution_count": null,
   "id": "aa50d181",
   "metadata": {},
   "outputs": [],
   "source": [
    "save_dataframe(df=processed_df, save_path=ENGINEERED_CSV_FILE)"
   ]
  }
 ],
 "metadata": {
  "kernelspec": {
   "display_name": "battery",
   "language": "python",
   "name": "python3"
  },
  "language_info": {
   "codemirror_mode": {
    "name": "ipython",
    "version": 3
   },
   "file_extension": ".py",
   "mimetype": "text/x-python",
   "name": "python",
   "nbconvert_exporter": "python",
   "pygments_lexer": "ipython3",
   "version": "3.12.10"
  }
 },
 "nbformat": 4,
 "nbformat_minor": 5
}
