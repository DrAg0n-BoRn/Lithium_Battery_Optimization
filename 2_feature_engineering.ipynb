{
 "cells": [
  {
   "cell_type": "markdown",
   "id": "17d6c795",
   "metadata": {},
   "source": [
    "# 2. Feature Engineering"
   ]
  },
  {
   "cell_type": "code",
   "execution_count": null,
   "id": "b8125c95",
   "metadata": {},
   "outputs": [],
   "source": [
    "import pandas as pd\n",
    "\n",
    "from paths import PROCESSED_CSV_FILE, FEATURE_ENG_METRICS_DIR, FEATURE_ENG_DATASETS_DIR, LOGS_DIR, SERIALIZED_CONTINUOUS_FILE, SERIALIZED_BINARY_FILE, SERIALIZED_TARGETS_FILE\n",
    "from helpers.constants import TARGETS\n",
    "from ml_tools.logger import custom_logger\n",
    "from ml_tools.utilities import load_dataframe, save_dataframe, merge_dataframes, serialize_object\n",
    "from ml_tools.data_exploration import info\n",
    "info()"
   ]
  },
  {
   "cell_type": "code",
   "execution_count": null,
   "id": "243c7737",
   "metadata": {},
   "outputs": [],
   "source": [
    "from ml_tools.data_exploration import (summarize_dataframe, \n",
    "                                       drop_constant_columns, \n",
    "                                       drop_rows_with_missing_data, \n",
    "                                       split_features_targets, \n",
    "                                       show_null_columns, \n",
    "                                       drop_columns_with_missing_data, \n",
    "                                       split_continuous_binary, \n",
    "                                       plot_correlation_heatmap, \n",
    "                                       plot_value_distributions, \n",
    "                                       clip_outliers_multi)"
   ]
  },
  {
   "cell_type": "markdown",
   "id": "1374126f",
   "metadata": {},
   "source": [
    "## 1. Load dataset"
   ]
  },
  {
   "cell_type": "code",
   "execution_count": null,
   "id": "51b60800",
   "metadata": {},
   "outputs": [],
   "source": [
    "df_raw: pd.DataFrame\n",
    "df_raw, _ = load_dataframe(df_path=PROCESSED_CSV_FILE) # type: ignore"
   ]
  },
  {
   "cell_type": "markdown",
   "id": "765364bf",
   "metadata": {},
   "source": [
    "## 2. Drop columns and rows without data"
   ]
  },
  {
   "cell_type": "markdown",
   "id": "41875171",
   "metadata": {},
   "source": [
    "Iterative process until no improvement is achieved"
   ]
  },
  {
   "cell_type": "code",
   "execution_count": null,
   "id": "44846c59",
   "metadata": {},
   "outputs": [],
   "source": [
    "df_clean1 = drop_constant_columns(df_raw)"
   ]
  },
  {
   "cell_type": "code",
   "execution_count": null,
   "id": "fdc2b0b3",
   "metadata": {},
   "outputs": [],
   "source": [
    "df_clean2 = drop_rows_with_missing_data(df=df_clean1, targets=TARGETS, threshold=0.7)"
   ]
  },
  {
   "cell_type": "code",
   "execution_count": null,
   "id": "b271c651",
   "metadata": {},
   "outputs": [],
   "source": [
    "df_clean3 = drop_constant_columns(df_clean2)"
   ]
  },
  {
   "cell_type": "code",
   "execution_count": null,
   "id": "8ad25195",
   "metadata": {},
   "outputs": [],
   "source": [
    "summarize_dataframe(df_clean2)"
   ]
  },
  {
   "cell_type": "markdown",
   "id": "d026ca6b",
   "metadata": {},
   "source": [
    "## 3. Get splits (Features, Target)"
   ]
  },
  {
   "cell_type": "code",
   "execution_count": null,
   "id": "d938c4f4",
   "metadata": {},
   "outputs": [],
   "source": [
    "df_features, df_targets = split_features_targets(df=df_clean2, targets=TARGETS)"
   ]
  },
  {
   "cell_type": "markdown",
   "id": "c92349e7",
   "metadata": {},
   "source": [
    "## 4. Handle null values"
   ]
  },
  {
   "cell_type": "code",
   "execution_count": null,
   "id": "fa4e31b0",
   "metadata": {},
   "outputs": [],
   "source": [
    "null_cols_features = show_null_columns(df_features)\n",
    "null_cols_features"
   ]
  },
  {
   "cell_type": "code",
   "execution_count": null,
   "id": "5fe454b8",
   "metadata": {},
   "outputs": [],
   "source": [
    "null_cols_targets = show_null_columns(df_targets)\n",
    "null_cols_targets"
   ]
  },
  {
   "cell_type": "code",
   "execution_count": null,
   "id": "59d7e2ce",
   "metadata": {},
   "outputs": [],
   "source": [
    "total_null_cols = merge_dataframes(null_cols_features, null_cols_targets, direction=\"vertical\")"
   ]
  },
  {
   "cell_type": "code",
   "execution_count": null,
   "id": "6ca4212d",
   "metadata": {},
   "outputs": [],
   "source": [
    "# Log null columns\n",
    "custom_logger(data=total_null_cols, save_directory=FEATURE_ENG_METRICS_DIR, log_name=\"missing data\")"
   ]
  },
  {
   "cell_type": "markdown",
   "id": "f915e78d",
   "metadata": {},
   "source": [
    "Drop columns with too many Null values from the main dataframe"
   ]
  },
  {
   "cell_type": "code",
   "execution_count": null,
   "id": "210e1aaa",
   "metadata": {},
   "outputs": [],
   "source": [
    "df_lessnulls_features = drop_columns_with_missing_data(df_features, threshold=0.7)"
   ]
  },
  {
   "cell_type": "markdown",
   "id": "e539318b",
   "metadata": {},
   "source": [
    "## 4. Split features: Continuous - Binary"
   ]
  },
  {
   "cell_type": "code",
   "execution_count": null,
   "id": "f36bee5f",
   "metadata": {},
   "outputs": [],
   "source": [
    "df_continuous, df_binary = split_continuous_binary(df=df_lessnulls_features)"
   ]
  },
  {
   "cell_type": "code",
   "execution_count": null,
   "id": "ef3c069d",
   "metadata": {},
   "outputs": [],
   "source": [
    "summarize_dataframe(df_continuous)"
   ]
  },
  {
   "cell_type": "code",
   "execution_count": null,
   "id": "6bd8d916",
   "metadata": {},
   "outputs": [],
   "source": [
    "summarize_dataframe(df_binary)"
   ]
  },
  {
   "cell_type": "markdown",
   "id": "f49dbb39",
   "metadata": {},
   "source": [
    "## 5. Value Distributions"
   ]
  },
  {
   "cell_type": "markdown",
   "id": "03cf7176",
   "metadata": {},
   "source": [
    "Plot all distributions to get corrected value ranges (except binary columns)"
   ]
  },
  {
   "cell_type": "code",
   "execution_count": null,
   "id": "271b287c",
   "metadata": {},
   "outputs": [],
   "source": [
    "plot_value_distributions(df=df_continuous, save_dir=FEATURE_ENG_METRICS_DIR)"
   ]
  },
  {
   "cell_type": "code",
   "execution_count": null,
   "id": "5a21ef3e",
   "metadata": {},
   "outputs": [],
   "source": [
    "plot_value_distributions(df=df_targets, save_dir=FEATURE_ENG_METRICS_DIR)"
   ]
  },
  {
   "cell_type": "markdown",
   "id": "87da4fb8",
   "metadata": {},
   "source": [
    "## 6. Clip values"
   ]
  },
  {
   "cell_type": "markdown",
   "id": "686a0b5e",
   "metadata": {},
   "source": [
    "### 6.1 Set optimal value ranges for features and targets\n",
    "\n",
    "Values set by experts after analysis of value distributions"
   ]
  },
  {
   "cell_type": "code",
   "execution_count": null,
   "id": "a767a774",
   "metadata": {},
   "outputs": [],
   "source": [
    "from helpers.constants import CONT_FEATURES_VALUE_RANGE, TARGETS_VALUE_RANGE"
   ]
  },
  {
   "cell_type": "code",
   "execution_count": null,
   "id": "2e180616",
   "metadata": {},
   "outputs": [],
   "source": [
    "# Save Optimal ranges\n",
    "serialize_object(obj=CONT_FEATURES_VALUE_RANGE, save_dir=SERIALIZED_CONTINUOUS_FILE.parent, filename=SERIALIZED_CONTINUOUS_FILE.name)\n",
    "serialize_object(obj=TARGETS_VALUE_RANGE, save_dir=SERIALIZED_TARGETS_FILE.parent, filename=SERIALIZED_TARGETS_FILE.name)"
   ]
  },
  {
   "cell_type": "markdown",
   "id": "fb6bcc29",
   "metadata": {},
   "source": [
    "### 6.2 Use maximum and minimum values to clip outliers"
   ]
  },
  {
   "cell_type": "code",
   "execution_count": null,
   "id": "7f3935a5",
   "metadata": {},
   "outputs": [],
   "source": [
    "df_clip_continuous = clip_outliers_multi(df=df_continuous, clip_dict=CONT_FEATURES_VALUE_RANGE)"
   ]
  },
  {
   "cell_type": "code",
   "execution_count": null,
   "id": "d07d856e",
   "metadata": {},
   "outputs": [],
   "source": [
    "df_clip_targets = clip_outliers_multi(df=df_targets, clip_dict=TARGETS_VALUE_RANGE)"
   ]
  },
  {
   "cell_type": "code",
   "execution_count": null,
   "id": "321e172b",
   "metadata": {},
   "outputs": [],
   "source": [
    "assert all(df_continuous.columns == df_clip_continuous.columns)\n",
    "assert all(df_targets.columns == df_clip_targets.columns)"
   ]
  },
  {
   "cell_type": "code",
   "execution_count": null,
   "id": "e3607dca",
   "metadata": {},
   "outputs": [],
   "source": [
    "summarize_dataframe(df_clip_continuous)"
   ]
  },
  {
   "cell_type": "code",
   "execution_count": null,
   "id": "c64298cb",
   "metadata": {},
   "outputs": [],
   "source": [
    "summarize_dataframe(df_clip_targets)"
   ]
  },
  {
   "cell_type": "markdown",
   "id": "2986f211",
   "metadata": {},
   "source": [
    "## 7. Correlation Heatmap"
   ]
  },
  {
   "cell_type": "markdown",
   "id": "9df02933",
   "metadata": {},
   "source": [
    "Continuous features"
   ]
  },
  {
   "cell_type": "code",
   "execution_count": null,
   "id": "0dbf1542",
   "metadata": {},
   "outputs": [],
   "source": [
    "plot_correlation_heatmap(df=df_clip_continuous, save_dir=FEATURE_ENG_METRICS_DIR, plot_title=\"Continuous Features Correlation Heatmap\")"
   ]
  },
  {
   "cell_type": "markdown",
   "id": "7b6ef7e4",
   "metadata": {},
   "source": [
    "Binary features"
   ]
  },
  {
   "cell_type": "code",
   "execution_count": null,
   "id": "c7128587",
   "metadata": {},
   "outputs": [],
   "source": [
    "plot_correlation_heatmap(df=df_binary, save_dir=FEATURE_ENG_METRICS_DIR, plot_title=\"Binary Features Correlation Heatmap\")"
   ]
  },
  {
   "cell_type": "markdown",
   "id": "3b29a796",
   "metadata": {},
   "source": [
    "## 8. Merge Dataframe"
   ]
  },
  {
   "cell_type": "markdown",
   "id": "f7f2987a",
   "metadata": {},
   "source": [
    "### 8.1 Check remaining nulls"
   ]
  },
  {
   "cell_type": "code",
   "execution_count": null,
   "id": "39b28193",
   "metadata": {},
   "outputs": [],
   "source": [
    "show_null_columns(df_clip_targets)"
   ]
  },
  {
   "cell_type": "code",
   "execution_count": null,
   "id": "840a3ad3",
   "metadata": {},
   "outputs": [],
   "source": [
    "show_null_columns(df_clip_continuous)"
   ]
  },
  {
   "cell_type": "code",
   "execution_count": null,
   "id": "423d3f4a",
   "metadata": {},
   "outputs": [],
   "source": [
    "show_null_columns(df_binary)"
   ]
  },
  {
   "cell_type": "markdown",
   "id": "fec7fe47",
   "metadata": {},
   "source": [
    "### 8.2 Merge"
   ]
  },
  {
   "cell_type": "code",
   "execution_count": null,
   "id": "25e64462",
   "metadata": {},
   "outputs": [],
   "source": [
    "df_processed_full = merge_dataframes(df_clip_continuous, df_binary, df_clip_targets)"
   ]
  },
  {
   "cell_type": "markdown",
   "id": "4d51c62c",
   "metadata": {},
   "source": [
    "## 9. Save dataset & Info"
   ]
  },
  {
   "cell_type": "code",
   "execution_count": null,
   "id": "c0eac15f",
   "metadata": {},
   "outputs": [],
   "source": [
    "save_dataframe(df=df_processed_full, save_dir=FEATURE_ENG_DATASETS_DIR, filename=\"engineered dataset\")"
   ]
  },
  {
   "cell_type": "code",
   "execution_count": null,
   "id": "60f1128b",
   "metadata": {},
   "outputs": [],
   "source": [
    "serialize_object(obj=df_binary.columns.to_list(), save_dir=SERIALIZED_BINARY_FILE.parent, filename=SERIALIZED_BINARY_FILE.name)"
   ]
  }
 ],
 "metadata": {
  "kernelspec": {
   "display_name": "battery",
   "language": "python",
   "name": "python3"
  },
  "language_info": {
   "codemirror_mode": {
    "name": "ipython",
    "version": 3
   },
   "file_extension": ".py",
   "mimetype": "text/x-python",
   "name": "python",
   "nbconvert_exporter": "python",
   "pygments_lexer": "ipython3",
   "version": "3.12.10"
  }
 },
 "nbformat": 4,
 "nbformat_minor": 5
}
