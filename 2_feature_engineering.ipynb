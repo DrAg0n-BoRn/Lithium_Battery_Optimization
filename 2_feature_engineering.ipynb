{
 "cells": [
  {
   "cell_type": "markdown",
   "id": "17d6c795",
   "metadata": {},
   "source": [
    "# 2. Feature Engineering"
   ]
  },
  {
   "cell_type": "code",
   "execution_count": null,
   "id": "b8125c95",
   "metadata": {},
   "outputs": [],
   "source": [
    "import polars as pl\n",
    "import matplotlib.pyplot as plot \n",
    "\n",
    "from paths import PROCESSED_CSV_FILE, ENGINEERED_CSV_FILE"
   ]
  },
  {
   "cell_type": "markdown",
   "id": "674a9b86",
   "metadata": {},
   "source": [
    "## 1. Explore Data"
   ]
  },
  {
   "cell_type": "code",
   "execution_count": null,
   "id": "d938c4f4",
   "metadata": {},
   "outputs": [],
   "source": [
    "df = pl.read_csv(PROCESSED_CSV_FILE)\n",
    "df.shape"
   ]
  },
  {
   "cell_type": "code",
   "execution_count": null,
   "id": "99e62b99",
   "metadata": {},
   "outputs": [],
   "source": [
    "df.info()"
   ]
  },
  {
   "cell_type": "code",
   "execution_count": null,
   "id": "da4374da",
   "metadata": {},
   "outputs": [],
   "source": [
    "df.describe()"
   ]
  }
 ],
 "metadata": {
  "language_info": {
   "name": "python"
  }
 },
 "nbformat": 4,
 "nbformat_minor": 5
}
