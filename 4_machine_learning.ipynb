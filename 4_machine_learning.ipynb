{
 "cells": [
  {
   "cell_type": "markdown",
   "id": "8a5fc718",
   "metadata": {},
   "source": [
    "# Step 4: Machine Learning"
   ]
  },
  {
   "cell_type": "code",
   "execution_count": null,
   "id": "5e41a064",
   "metadata": {},
   "outputs": [],
   "source": [
    "from ml_tools.ensemble_learning import run_pipeline\n",
    "from paths import MICE_IMPUTED_DATASETS_DIR, MODEL_METRICS_DIR"
   ]
  },
  {
   "cell_type": "code",
   "execution_count": null,
   "id": "34bb2bb8",
   "metadata": {},
   "outputs": [],
   "source": [
    "targets = [\"\"]"
   ]
  },
  {
   "cell_type": "code",
   "execution_count": null,
   "id": "76eeb59d",
   "metadata": {},
   "outputs": [],
   "source": [
    "run_pipeline(datasets_dir=MICE_IMPUTED_DATASETS_DIR,\n",
    "             save_dir=MODEL_METRICS_DIR,\n",
    "             target_columns=targets,\n",
    "             task=\"regression\",\n",
    "             save_model=False,\n",
    "             L1_regularization=0.1,\n",
    "             L2_regularization=0.1)"
   ]
  }
 ],
 "metadata": {
  "language_info": {
   "name": "python"
  }
 },
 "nbformat": 4,
 "nbformat_minor": 5
}
