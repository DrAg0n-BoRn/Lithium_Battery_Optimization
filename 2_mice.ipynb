{
 "cells": [
  {
   "cell_type": "markdown",
   "metadata": {},
   "source": [
    "# Step 2: Multiple Imputation by Chained Equations (MICE)"
   ]
  },
  {
   "cell_type": "code",
   "execution_count": null,
   "metadata": {},
   "outputs": [],
   "source": [
    "import pandas as pd\n",
    "import miceforest as mf\n",
    "import os\n",
    "import matplotlib.pyplot as plt\n",
    "import numpy as np\n",
    "from typing import Union\n",
    "import json\n",
    "\n",
    "from paths import PROCESSED_CSV_PATH, MICE_BASE_DIR, MICE_IMPUTED_METRICS_DIR, IMPUTED_DATASETS_DIR"
   ]
  },
  {
   "cell_type": "markdown",
   "metadata": {},
   "source": [
    "## 1. Load Data"
   ]
  },
  {
   "cell_type": "code",
   "execution_count": null,
   "metadata": {},
   "outputs": [
    {
     "data": {
      "text/plain": [
       "(6724, 100)"
      ]
     },
     "execution_count": 3,
     "metadata": {},
     "output_type": "execute_result"
    }
   ],
   "source": [
    "#Load data\n",
    "df_full = pd.read_csv(PROCESSED_CSV_PATH, encoding='utf-8')\n",
    "df_full.shape"
   ]
  },
  {
   "cell_type": "code",
   "execution_count": null,
   "metadata": {},
   "outputs": [
    {
     "name": "stdout",
     "output_type": "stream",
     "text": [
      "<class 'pandas.core.frame.DataFrame'>\n",
      "RangeIndex: 6724 entries, 0 to 6723\n",
      "Data columns (total 99 columns):\n",
      " #   Column              Non-Null Count  Dtype  \n",
      "---  ------              --------------  -----  \n",
      " 0   胎膜早破                6724 non-null   int64  \n",
      " 1   胎儿宫内窘迫              6724 non-null   int64  \n",
      " 2   巨大儿                 6724 non-null   int64  \n",
      " 3   羊水污染                6724 non-null   int64  \n",
      " 4   妊娠期糖尿病              6724 non-null   int64  \n",
      " 5   妊娠期高血压              6724 non-null   int64  \n",
      " 6   妊娠合并肝损害             6724 non-null   int64  \n",
      " 7   妊娠合并肝内胆汁淤积症         6724 non-null   int64  \n",
      " 8   孕妇产次                6724 non-null   int64  \n",
      " 9   足月产次数               6724 non-null   int64  \n",
      " 10  早产次数                6724 non-null   int64  \n",
      " 11  流产次数                6724 non-null   int64  \n",
      " 12  人流次数                6724 non-null   int64  \n",
      " 13  体重                  6724 non-null   float64\n",
      " 14  身高                  6724 non-null   float64\n",
      " 15  1小时葡萄糖              6724 non-null   float64\n",
      " 16  2小时葡萄糖              6724 non-null   float64\n",
      " 17  空腹葡萄糖               6724 non-null   float64\n",
      " 18  34-37.6周γ-谷氨酰转肽酶    6724 non-null   float64\n",
      " 19  1-10周促甲状腺素          6724 non-null   float64\n",
      " 20  10.1-20周促甲状腺素       6724 non-null   float64\n",
      " 21  21-40周促甲状腺素         6724 non-null   float64\n",
      " 22  1-25周叶酸             6724 non-null   float64\n",
      " 23  25.1-40周叶酸          6724 non-null   float64\n",
      " 24  34-37.6周总胆固醇        6724 non-null   float64\n",
      " 25  1-10周游离FT4          6724 non-null   float64\n",
      " 26  10.1-20周游离FT4       6724 non-null   float64\n",
      " 27  21-40周游离FT4         6724 non-null   float64\n",
      " 28  34-37.6周谷丙转氨酶       6724 non-null   float64\n",
      " 29  34-37.6周谷草转氨酶       6724 non-null   float64\n",
      " 30  38-40周谷草转氨酶         6724 non-null   float64\n",
      " 31  34-37.6周载脂蛋白A1      6724 non-null   float64\n",
      " 32  34-37.6周载脂蛋白B       6724 non-null   float64\n",
      " 33  25.1-32w_双顶径        6724 non-null   float64\n",
      " 34  32.1-38w_双顶径        6724 non-null   float64\n",
      " 35  18.1-25w_羊水深度       6724 non-null   float64\n",
      " 36  32.1-38w_羊水深度       6724 non-null   float64\n",
      " 37  18.1-25w_脐动脉S/D     6724 non-null   float64\n",
      " 38  32.1-38w_脐动脉S/D     6724 non-null   float64\n",
      " 39  38.1-40w_脐动脉S/D     6724 non-null   float64\n",
      " 40  25.1-32w_脐动脉RI      6724 non-null   float64\n",
      " 41  32.1-38w_脐动脉RI      6724 non-null   float64\n",
      " 42  38.1-40w_脐动脉RI      6724 non-null   float64\n",
      " 43  25.1-32w_脐动脉S/D     6724 non-null   float64\n",
      " 44  18.1-25w_脐动脉RI      6724 non-null   float64\n",
      " 45  1-11.6周糖化血红蛋白       6724 non-null   float64\n",
      " 46  25.1-33.6周γ-谷氨酰转肽酶  6724 non-null   float64\n",
      " 47  22.1-32周乳酸脱氢酶       6724 non-null   float64\n",
      " 48  25.1-33.6周谷丙转氨酶     6724 non-null   float64\n",
      " 49  25.1-33.6周谷草转氨酶     6724 non-null   float64\n",
      " 50  25.1-32w_羊水深度       6724 non-null   float64\n",
      " 51  18.1-25w_双顶径        6724 non-null   float64\n",
      " 52  1-22周乳酸脱氢酶          6724 non-null   float64\n",
      " 53  13-25周谷丙转氨酶         6724 non-null   float64\n",
      " 54  13-25周谷草转氨酶         6724 non-null   float64\n",
      " 55  38-40周谷丙转氨酶         6724 non-null   float64\n",
      " 56  32.1-40周乳酸脱氢酶       6724 non-null   float64\n",
      " 57  收缩压                 6591 non-null   float64\n",
      " 58  舒张压                 6591 non-null   float64\n",
      " 59  抗甲状腺过氧化物酶抗体         6724 non-null   int64  \n",
      " 60  10.1-14周尿葡萄糖        3914 non-null   float64\n",
      " 61  14.1-19.6周尿葡萄糖      6366 non-null   float64\n",
      " 62  20-25周尿葡萄糖          6500 non-null   float64\n",
      " 63  25.1-27.6周尿葡萄糖      5434 non-null   float64\n",
      " 64  28-31周尿葡萄糖          6527 non-null   float64\n",
      " 65  31.1-33周尿葡萄糖        6384 non-null   float64\n",
      " 66  33.1-35周尿葡萄糖        6393 non-null   float64\n",
      " 67  35.1-36.3周尿葡萄糖      4731 non-null   float64\n",
      " 68  36.4-37.3周尿葡萄糖      6192 non-null   float64\n",
      " 69  37.4-38.3周尿葡萄糖      6138 non-null   float64\n",
      " 70  38.4-39.3周尿葡萄糖      5538 non-null   float64\n",
      " 71  39.4-40周尿葡萄糖        3792 non-null   float64\n",
      " 72  10.1-14周尿蛋白         3914 non-null   float64\n",
      " 73  14.1-19.6周尿蛋白       6366 non-null   float64\n",
      " 74  20-25周尿蛋白           6498 non-null   float64\n",
      " 75  25.1-27.6周尿蛋白       5431 non-null   float64\n",
      " 76  28-31周尿蛋白           6527 non-null   float64\n",
      " 77  31.1-33周尿蛋白         6384 non-null   float64\n",
      " 78  33.1-35周尿蛋白         6393 non-null   float64\n",
      " 79  35.1-36.3周尿蛋白       4731 non-null   float64\n",
      " 80  36.4-37.3周尿蛋白       6192 non-null   float64\n",
      " 81  37.4-38.3周尿蛋白       6138 non-null   float64\n",
      " 82  38.4-39.3周尿蛋白       5539 non-null   float64\n",
      " 83  39.4-40周尿蛋白         3791 non-null   float64\n",
      " 84  1-10周甲状腺过氧化物酶抗体     6724 non-null   int64  \n",
      " 85  10.1-20周甲状腺过氧化物酶抗体  6724 non-null   int64  \n",
      " 86  21-40周甲状腺过氧化物酶抗体    6724 non-null   int64  \n",
      " 87  10.1-14周尿酮体         3914 non-null   float64\n",
      " 88  14.1-19.6周尿酮体       6366 non-null   float64\n",
      " 89  20-25周尿酮体           6498 non-null   float64\n",
      " 90  25.1-27.6周尿酮体       5431 non-null   float64\n",
      " 91  28-31周尿酮体           6527 non-null   float64\n",
      " 92  31.1-33周尿酮体         6384 non-null   float64\n",
      " 93  33.1-35周尿酮体         6393 non-null   float64\n",
      " 94  35.1-36.3周尿酮体       4731 non-null   float64\n",
      " 95  36.4-37.3周尿酮体       6191 non-null   float64\n",
      " 96  37.4-38.3周尿酮体       6138 non-null   float64\n",
      " 97  38.4-39.3周尿酮体       5539 non-null   float64\n",
      " 98  39.4-40周尿酮体         3792 non-null   float64\n",
      "dtypes: float64(82), int64(17)\n",
      "memory usage: 5.1 MB\n"
     ]
    }
   ],
   "source": [
    "df_full.info()"
   ]
  },
  {
   "cell_type": "markdown",
   "metadata": {},
   "source": [
    "## 2. Apply MICE Imputation"
   ]
  },
  {
   "cell_type": "code",
   "execution_count": null,
   "metadata": {},
   "outputs": [
    {
     "name": "stdout",
     "output_type": "stream",
     "text": [
      "All imputed datasets match the original DataFrame indexes.\n"
     ]
    }
   ],
   "source": [
    "IMPUTED_DATASETS = 1\n",
    "ITERATIONS = 20\n",
    "\n",
    "# Initialize the imputation kernel\n",
    "kernel = mf.ImputationKernel(\n",
    "    data=df_full,\n",
    "    num_datasets=IMPUTED_DATASETS,  # Number of imputed datasets\n",
    "    random_state=42\n",
    ")\n",
    "\n",
    "# Perform MICE with N iterations per dataset\n",
    "kernel.mice(ITERATIONS)\n",
    "\n",
    "# Retrieve the imputed datasets \n",
    "imputed_datasets = [kernel.complete_data(dataset=i) for i in range(IMPUTED_DATASETS)]\n",
    "\n",
    "# Ensure indexes match\n",
    "for i, imputed_df in enumerate(imputed_datasets, start=1):\n",
    "    assert imputed_df.shape[0] == df_full.shape[0], f\"Row count mismatch in dataset {i}\"\n",
    "    assert all(imputed_df.index == df_full.index), f\"Index mismatch in dataset {i}\"\n",
    "print(\"All imputed datasets match the original DataFrame indexes.\")\n"
   ]
  },
  {
   "cell_type": "markdown",
   "metadata": {},
   "source": [
    "## 3. Save Imputed Datasets"
   ]
  },
  {
   "cell_type": "code",
   "execution_count": null,
   "metadata": {},
   "outputs": [
    {
     "name": "stdout",
     "output_type": "stream",
     "text": [
      "Saved imputed_01.csv with shape (6724, 99)\n",
      "Saved imputed_02.csv with shape (6724, 99)\n",
      "Saved imputed_03.csv with shape (6724, 99)\n"
     ]
    }
   ],
   "source": [
    "# Save each imputed dataset with a unique name\n",
    "for i, imputed_df in enumerate(imputed_datasets, start=1):\n",
    "    if i < 10:\n",
    "        file_name = f\"imputed_0{i}.csv\"\n",
    "    else:\n",
    "        file_name = f\"imputed_{i}.csv\"\n",
    "    output_path = os.path.join(IMPUTED_DATASETS_DIR, file_name)\n",
    "    imputed_df.to_csv(output_path, index=False)\n",
    "    print(f\"Saved {file_name} with shape {imputed_df.shape}\")"
   ]
  },
  {
   "cell_type": "markdown",
   "metadata": {},
   "source": [
    "## 4. Get metrics"
   ]
  },
  {
   "cell_type": "code",
   "execution_count": null,
   "metadata": {},
   "outputs": [],
   "source": [
    "#Get feature names that had missing values before imputation\n",
    "def get_na_feature_names(df: pd.DataFrame):\n",
    "    return [col for col in df.columns if df[col].isna().any()]\n",
    "\n",
    "#Convergence diagnostic\n",
    "def get_convergence_diagnostic(kernel: mf.ImputationKernel, feature_names: list[str], iterations_cap: int=ITERATIONS):\n",
    "    for dataset_id in range(kernel.num_datasets):\n",
    "        #Check directory for current dataset\n",
    "        dataset_file_dir = f\"Convergence Metrics {dataset_id + 1}\"\n",
    "        save_dir = os.path.join(MICE_BASE_DIR, dataset_file_dir)\n",
    "        if not os.path.isdir(save_dir):\n",
    "            os.makedirs(save_dir)\n",
    "        \n",
    "        for feature_name in feature_names:\n",
    "            means_per_iteration = []\n",
    "            for iteration in range(iterations_cap):\n",
    "                current_imputed = kernel.complete_data(dataset=dataset_id, iteration=iteration)\n",
    "                means_per_iteration.append(np.mean(current_imputed[feature_name]))\n",
    "\n",
    "            plt.plot(means_per_iteration, marker='o')\n",
    "            plt.xlabel(\"Iteration\")\n",
    "            plt.ylabel(\"Mean of Imputed Values\")\n",
    "            plt.title(f\"Mean Convergence for '{feature_name}'\")\n",
    "            \n",
    "            # Adjust plot display for the X axis\n",
    "            _ticks = np.arange(iterations_cap)\n",
    "            _labels = np.arange(1, iterations_cap + 1)\n",
    "            plt.xticks(ticks=_ticks, labels=_labels)\n",
    "            \n",
    "            save_path = os.path.join(save_dir, feature_name + \".png\")\n",
    "            plt.savefig(save_path, bbox_inches='tight')\n",
    "            plt.close()\n",
    "            \n",
    "        print(f\"{dataset_file_dir} completed.\")\n",
    "\n",
    "# Imputed distributions\n",
    "def get_imputed_distributions(kernel: mf.ImputationKernel, feature_names: Union[list[str], None]=None, individual_plots: bool=True):\n",
    "    ''' \n",
    "    It works using miceforest's authors implementation of the method `.plot_imputed_distributions()`.\n",
    "    \n",
    "    Set individual_plots=False to save a single image with all feature distributions.\n",
    "    '''\n",
    "    # Styling parameters\n",
    "    legend_kwargs = {'frameon': True, 'facecolor': 'white', 'framealpha': 0.8}\n",
    "    label_font = {'size': 14, 'weight': 'bold'}\n",
    "\n",
    "    def _process_figure(fig, filename):\n",
    "        \"\"\"Helper function to add labels and legends to a figure\"\"\"\n",
    "        for ax in fig.axes:\n",
    "            # Set axis labels\n",
    "            ax.set_xlabel('Value', **label_font)\n",
    "            ax.set_ylabel('Density', **label_font)\n",
    "            \n",
    "            # Add legend based on line colors\n",
    "            lines = ax.get_lines()\n",
    "            if len(lines) >= 1:\n",
    "                lines[0].set_label('Original Data')\n",
    "                if len(lines) > 1:\n",
    "                    lines[1].set_label('Imputed Data')\n",
    "                ax.legend(**legend_kwargs)\n",
    "                \n",
    "        # Adjust layout and save\n",
    "        fig.tight_layout()\n",
    "        fig.savefig(\n",
    "            os.path.join(MICE_IMPUTED_METRICS_DIR, filename),\n",
    "            dpi=300,\n",
    "            bbox_inches='tight',\n",
    "            pad_inches=0.2\n",
    "        )\n",
    "        plt.close(fig)\n",
    "\n",
    "    if individual_plots and feature_names:\n",
    "        # Generate individual plots per feature\n",
    "        for feature in feature_names:\n",
    "            fig = kernel.plot_imputed_distributions(variables=[feature])\n",
    "            _process_figure(fig, f\"{feature}.png\")\n",
    "    else:\n",
    "        # Generate combined plot\n",
    "        fig = kernel.plot_imputed_distributions(variables=feature_names)\n",
    "        _process_figure(fig, \"Combined_Distributions.png\")\n",
    "    \n",
    "    print(\"Imputed distributions saved successfully.\")"
   ]
  },
  {
   "cell_type": "code",
   "execution_count": null,
   "metadata": {},
   "outputs": [
    {
     "name": "stdout",
     "output_type": "stream",
     "text": [
      "Convergence Imputed_1 completed.\n",
      "Convergence Imputed_2 completed.\n",
      "Convergence Imputed_3 completed.\n",
      "Imputed Distribution Legend:\n",
      "\tRed lines are the distribution of original data.\n",
      "\tBlack lines are the distribution of the imputed values.\n"
     ]
    }
   ],
   "source": [
    "# Run functions\n",
    "na_feature_names = get_na_feature_names(df_full)\n",
    "get_convergence_diagnostic(kernel=kernel, feature_names=na_feature_names)\n",
    "get_imputed_distributions(kernel=kernel, feature_names=na_feature_names)"
   ]
  }
 ],
 "metadata": {
  "kernelspec": {
   "display_name": "thyroid",
   "language": "python",
   "name": "python3"
  },
  "language_info": {
   "codemirror_mode": {
    "name": "ipython",
    "version": 3
   },
   "file_extension": ".py",
   "mimetype": "text/x-python",
   "name": "python",
   "nbconvert_exporter": "python",
   "pygments_lexer": "ipython3",
   "version": "3.12.10"
  }
 },
 "nbformat": 4,
 "nbformat_minor": 2
}
