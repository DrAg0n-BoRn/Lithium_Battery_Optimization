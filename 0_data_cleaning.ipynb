{
 "cells": [
  {
   "cell_type": "markdown",
   "id": "c2107a36",
   "metadata": {},
   "source": [
    "# 1. Merge Raw Data"
   ]
  },
  {
   "cell_type": "code",
   "execution_count": null,
   "id": "39446340",
   "metadata": {},
   "outputs": [],
   "source": [
    "from ml_tools.handle_excel import validate_excel_schema, vertical_merge_transform_excel\n",
    "from paths import RAW_DATA_DIR, RAW_CSV_FILE\n",
    "from helpers.constants import RAW_COLUMNS"
   ]
  },
  {
   "cell_type": "code",
   "execution_count": null,
   "id": "a205a752",
   "metadata": {},
   "outputs": [],
   "source": [
    "validate_excel_schema(target_dir=RAW_DATA_DIR, expected_columns=RAW_COLUMNS)"
   ]
  },
  {
   "cell_type": "code",
   "execution_count": null,
   "id": "76dee9c6",
   "metadata": {},
   "outputs": [],
   "source": [
    "vertical_merge_transform_excel(target_dir=RAW_DATA_DIR,\n",
    "                               csv_filename=RAW_CSV_FILE.name,\n",
    "                               output_dir=RAW_CSV_FILE.parent)"
   ]
  },
  {
   "cell_type": "markdown",
   "id": "f8e9023d",
   "metadata": {},
   "source": [
    "# 2. Data Cleaning (Optional)"
   ]
  },
  {
   "cell_type": "code",
   "execution_count": null,
   "id": "67d920c2",
   "metadata": {},
   "outputs": [],
   "source": [
    "from ml_tools.ETL_engineering import ColumnCleaner, DataFrameCleaner\n",
    "from paths import CLEANED_CSV_FILE\n",
    "from ml_tools.utilities import load_dataframe, save_dataframe"
   ]
  },
  {
   "cell_type": "markdown",
   "id": "9684c232",
   "metadata": {},
   "source": [
    "## 2.1 Set cleaning rules"
   ]
  },
  {
   "cell_type": "code",
   "execution_count": null,
   "id": "29a337a7",
   "metadata": {},
   "outputs": [],
   "source": [
    "molar_ratio_cleaner = ColumnCleaner(\n",
    "    column_name=\"molar ratio\",\n",
    "    rules={\n",
    "        r'(\\d*\\.?\\s?\\d+):(\\d*\\.?\\s?\\d+):(\\d*\\.?\\s?\\d+):(\\d*\\.?\\s?\\d+):(\\d*\\.?\\s?\\d+):(\\d*\\.?\\s?\\d+):(\\d*\\.?\\s?\\d+):(\\d*\\.?\\s?\\d+):(\\d*\\.?\\s?\\d+):(\\d*\\.?\\s?\\d+)': \n",
    "        r''\n",
    "    },\n",
    "    case_insensitive=False\n",
    ")"
   ]
  },
  {
   "cell_type": "markdown",
   "id": "e61d05dd",
   "metadata": {},
   "source": [
    "## 2.2 Load raw dataset"
   ]
  },
  {
   "cell_type": "code",
   "execution_count": null,
   "id": "5b57cf6a",
   "metadata": {},
   "outputs": [],
   "source": [
    "df_raw, _ = load_dataframe(df_path=RAW_CSV_FILE, kind=\"polars\", all_strings=True)"
   ]
  },
  {
   "cell_type": "markdown",
   "id": "9bb5ac10",
   "metadata": {},
   "source": [
    "## 2.3 Clean dataset"
   ]
  },
  {
   "cell_type": "code",
   "execution_count": null,
   "id": "16a6aed8",
   "metadata": {},
   "outputs": [],
   "source": [
    "df_cleaned = df_raw"
   ]
  },
  {
   "cell_type": "markdown",
   "id": "349ac339",
   "metadata": {},
   "source": [
    "## 2.4 Save cleaned dataset"
   ]
  },
  {
   "cell_type": "code",
   "execution_count": null,
   "id": "0bb438d8",
   "metadata": {},
   "outputs": [],
   "source": [
    "save_dataframe(df=df_cleaned, save_dir=CLEANED_CSV_FILE.parent, filename=CLEANED_CSV_FILE.name)"
   ]
  }
 ],
 "metadata": {
  "kernelspec": {
   "display_name": "battery",
   "language": "python",
   "name": "python3"
  },
  "language_info": {
   "codemirror_mode": {
    "name": "ipython",
    "version": 3
   },
   "file_extension": ".py",
   "mimetype": "text/x-python",
   "name": "python",
   "nbconvert_exporter": "python",
   "pygments_lexer": "ipython3",
   "version": "3.12.10"
  }
 },
 "nbformat": 4,
 "nbformat_minor": 5
}
