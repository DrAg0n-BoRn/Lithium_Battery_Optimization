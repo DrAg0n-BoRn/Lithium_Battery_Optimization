{
 "cells": [
  {
   "cell_type": "markdown",
   "id": "2b899f10",
   "metadata": {},
   "source": [
    "# Step 5: Particle Swarm Optimization"
   ]
  },
  {
   "cell_type": "code",
   "execution_count": null,
   "id": "e1f90b68",
   "metadata": {},
   "outputs": [],
   "source": [
    "from ml_tools.particle_swarm_optimization import ObjectiveFunction, run_pso\n",
    "from paths import OPTIMIZATION_RESULTS_DIR"
   ]
  },
  {
   "cell_type": "markdown",
   "id": "b2cff2c1",
   "metadata": {},
   "source": [
    "## 1. Define boundaries per feature"
   ]
  },
  {
   "cell_type": "code",
   "execution_count": null,
   "id": "39fdc03a",
   "metadata": {},
   "outputs": [],
   "source": [
    "# Include 0/1 if binary features are present\n",
    "lower_boundaries = []\n",
    "\n",
    "upper_boundaries = []"
   ]
  },
  {
   "cell_type": "markdown",
   "id": "0da67408",
   "metadata": {},
   "source": [
    "## 2. Perform optimization"
   ]
  },
  {
   "cell_type": "code",
   "execution_count": null,
   "id": "bd2d054f",
   "metadata": {},
   "outputs": [],
   "source": [
    "objective_func = ObjectiveFunction(trained_model_path=\"\",\n",
    "                                   add_noise=True,\n",
    "                                   task=\"maximization\",\n",
    "                                   binary_features=0)\n",
    "\n",
    "run_pso(lower_boundaries=lower_boundaries,\n",
    "        upper_boundaries=upper_boundaries,\n",
    "        objective_function=objective_func,\n",
    "        save_results_dir=OPTIMIZATION_RESULTS_DIR,\n",
    "        swarm_size=100,\n",
    "        max_iterations=100)"
   ]
  }
 ],
 "metadata": {
  "language_info": {
   "name": "python"
  }
 },
 "nbformat": 4,
 "nbformat_minor": 5
}
