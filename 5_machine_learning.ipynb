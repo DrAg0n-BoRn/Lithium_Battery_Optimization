{
 "cells": [
  {
   "cell_type": "markdown",
   "id": "8a5fc718",
   "metadata": {},
   "source": [
    "# Step 5: Machine Learning"
   ]
  },
  {
   "cell_type": "code",
   "execution_count": 1,
   "id": "5e41a064",
   "metadata": {},
   "outputs": [],
   "source": [
    "from ml_tools.ensemble_learning import RegressionTreeModels, run_ensemble_pipeline\n",
    "from paths import MICE_IMPUTED_DATASETS_DIR, VIF_IMPUTED_DATASETS_DIR, ENGINEERED_CSVS_DIR, MODEL_METRICS_DIR, TRAIN_DATASETS_DIR, LOGS_DIR\n",
    "from helpers.constants import TARGETS\n",
    "from ml_tools.logger import custom_logger\n",
    "from ml_tools.utilities import distribute_datasets_by_target, save_dataframe, list_csv_paths"
   ]
  },
  {
   "cell_type": "markdown",
   "id": "c6ffd8b8",
   "metadata": {},
   "source": [
    "## 1. Distribute Datasets to train"
   ]
  },
  {
   "cell_type": "code",
   "execution_count": 2,
   "id": "220dc767",
   "metadata": {},
   "outputs": [
    {
     "name": "stdout",
     "output_type": "stream",
     "text": [
      "🗂️ CSV files found:\n",
      "\tengineered_dataset\n",
      "\n",
      "💿 Loaded dataset: 'engineered_dataset' with shape: (1220, 119)\n",
      "✅ Saved dataset: 'capacitymAhg.csv' with shape: (1063, 117)\n",
      "✅ Saved dataset: 'capacity_retention.csv' with shape: (974, 117)\n",
      "✅ Saved dataset: 'first_coulombic_efficiency.csv' with shape: (702, 117)\n",
      "🗂️ CSV files found:\n",
      "\tengineered_dataset_MICE\n",
      "\n",
      "💿 Loaded dataset: 'engineered_dataset_MICE' with shape: (1220, 119)\n",
      "✅ Saved dataset: 'capacitymAhg_MICE.csv' with shape: (1063, 117)\n",
      "✅ Saved dataset: 'capacity_retention_MICE.csv' with shape: (974, 117)\n",
      "✅ Saved dataset: 'first_coulombic_efficiency_MICE.csv' with shape: (702, 117)\n",
      "🗂️ CSV files found:\n",
      "\tengineered_dataset_MICE_VIF\n",
      "\n",
      "💿 Loaded dataset: 'engineered_dataset_MICE_VIF' with shape: (1220, 110)\n",
      "✅ Saved dataset: 'capacitymAhg_VIF.csv' with shape: (1063, 108)\n",
      "✅ Saved dataset: 'capacity_retention_VIF.csv' with shape: (974, 108)\n",
      "✅ Saved dataset: 'first_coulombic_efficiency_VIF.csv' with shape: (702, 108)\n"
     ]
    }
   ],
   "source": [
    "for _csv_name, df_path in list_csv_paths(ENGINEERED_CSVS_DIR).items():\n",
    "    for target_name, df in distribute_datasets_by_target(df_or_path=df_path, target_columns=TARGETS):\n",
    "        save_dataframe(df=df, save_dir=TRAIN_DATASETS_DIR, filename=target_name)\n",
    "\n",
    "for _csv_name, df_path in list_csv_paths(MICE_IMPUTED_DATASETS_DIR).items():\n",
    "    for target_name, df in distribute_datasets_by_target(df_or_path=df_path, target_columns=TARGETS):\n",
    "        save_dataframe(df=df, save_dir=TRAIN_DATASETS_DIR, filename=target_name + \"_MICE\")\n",
    "\n",
    "for _csv_name, df_path in list_csv_paths(VIF_IMPUTED_DATASETS_DIR).items():\n",
    "    for target_name, df in distribute_datasets_by_target(df_or_path=df_path, target_columns=TARGETS):\n",
    "        save_dataframe(df=df, save_dir=TRAIN_DATASETS_DIR, filename=target_name + \"_VIF\")"
   ]
  },
  {
   "cell_type": "markdown",
   "id": "45592b39",
   "metadata": {},
   "source": [
    "## 2. Configure Factory class to create models"
   ]
  },
  {
   "cell_type": "code",
   "execution_count": 3,
   "id": "0b3a0108",
   "metadata": {},
   "outputs": [],
   "source": [
    "hyperparameters = {\n",
    "    \"L1_regularization\": 0,\n",
    "    \"L2_regularization\": 0,\n",
    "    \"learning_rate\": 0.001,\n",
    "    \"n_estimators\": 3000,   #xgb - lightgbm\n",
    "    \"max_depth\": 8,\n",
    "    \"subsample\": 0.8,\n",
    "    \"colsample_bytree\": 0.8,    #xgb - lightgbm\n",
    "    \"min_samples_leaf\": 50, #histgb\n",
    "    \"max_iter\": 1000,   #histgb\n",
    "    \"min_child_weight\": 3,  #xgb\n",
    "    \"gamma\": 1, #xgb\n",
    "    \"num_leaves\": 31,   #lightgbm\n",
    "    \"min_data_in_leaf\": 40  #lightgbm\n",
    "}\n",
    "\n",
    "factory_class = RegressionTreeModels(**hyperparameters)"
   ]
  },
  {
   "cell_type": "markdown",
   "id": "f9111442",
   "metadata": {},
   "source": [
    "## 3. Train Ensemble models"
   ]
  },
  {
   "cell_type": "code",
   "execution_count": 4,
   "id": "76eeb59d",
   "metadata": {},
   "outputs": [
    {
     "name": "stdout",
     "output_type": "stream",
     "text": [
      "🗂️ CSV files found:\n",
      "\tcapacity_retention_VIF\n",
      "\tcapacitymAhg\n",
      "\tcapacity_retention\n",
      "\tcapacity_retention_MICE\n",
      "\tcapacitymAhg_MICE\n",
      "\tfirst_coulombic_efficiency\n",
      "\tcapacitymAhg_VIF\n",
      "\tfirst_coulombic_efficiency_MICE\n",
      "\tfirst_coulombic_efficiency_VIF\n",
      "\n",
      "💿 Loaded dataset: 'capacity_retention_VIF' with shape: (974, 108)\n",
      "\tTraining model: XGBoost for Target: capacity_retention(%)...\n",
      "\tTraining model: LightGBM for Target: capacity_retention(%)...\n",
      "\tTraining model: HistGB for Target: capacity_retention(%)...\n",
      "\n",
      "💿 Loaded dataset: 'capacitymAhg' with shape: (1063, 117)\n",
      "\tTraining model: XGBoost for Target: capacity(mAh/g)...\n",
      "\tTraining model: LightGBM for Target: capacity(mAh/g)...\n",
      "\tTraining model: HistGB for Target: capacity(mAh/g)...\n",
      "\n",
      "💿 Loaded dataset: 'capacity_retention' with shape: (974, 117)\n",
      "\tTraining model: XGBoost for Target: capacity_retention(%)...\n",
      "\tTraining model: LightGBM for Target: capacity_retention(%)...\n",
      "\tTraining model: HistGB for Target: capacity_retention(%)...\n",
      "\n",
      "💿 Loaded dataset: 'capacity_retention_MICE' with shape: (974, 117)\n",
      "\tTraining model: XGBoost for Target: capacity_retention(%)...\n",
      "\tTraining model: LightGBM for Target: capacity_retention(%)...\n",
      "\tTraining model: HistGB for Target: capacity_retention(%)...\n",
      "\n",
      "💿 Loaded dataset: 'capacitymAhg_MICE' with shape: (1063, 117)\n",
      "\tTraining model: XGBoost for Target: capacity(mAh/g)...\n",
      "\tTraining model: LightGBM for Target: capacity(mAh/g)...\n",
      "\tTraining model: HistGB for Target: capacity(mAh/g)...\n",
      "\n",
      "💿 Loaded dataset: 'first_coulombic_efficiency' with shape: (702, 117)\n",
      "\tTraining model: XGBoost for Target: first_coulombic_efficiency(%)...\n",
      "\tTraining model: LightGBM for Target: first_coulombic_efficiency(%)...\n",
      "\tTraining model: HistGB for Target: first_coulombic_efficiency(%)...\n",
      "\n",
      "💿 Loaded dataset: 'capacitymAhg_VIF' with shape: (1063, 108)\n",
      "\tTraining model: XGBoost for Target: capacity(mAh/g)...\n",
      "\tTraining model: LightGBM for Target: capacity(mAh/g)...\n",
      "\tTraining model: HistGB for Target: capacity(mAh/g)...\n",
      "\n",
      "💿 Loaded dataset: 'first_coulombic_efficiency_MICE' with shape: (702, 117)\n",
      "\tTraining model: XGBoost for Target: first_coulombic_efficiency(%)...\n",
      "\tTraining model: LightGBM for Target: first_coulombic_efficiency(%)...\n",
      "\tTraining model: HistGB for Target: first_coulombic_efficiency(%)...\n",
      "\n",
      "💿 Loaded dataset: 'first_coulombic_efficiency_VIF' with shape: (702, 108)\n",
      "\tTraining model: XGBoost for Target: first_coulombic_efficiency(%)...\n",
      "\tTraining model: LightGBM for Target: first_coulombic_efficiency(%)...\n",
      "\tTraining model: HistGB for Target: first_coulombic_efficiency(%)...\n",
      "\n",
      "✅ Training and evaluation complete.\n"
     ]
    }
   ],
   "source": [
    "run_ensemble_pipeline(datasets_dir=TRAIN_DATASETS_DIR,\n",
    "             save_dir=MODEL_METRICS_DIR,\n",
    "             target_columns=TARGETS,\n",
    "             model_object=factory_class,\n",
    "             save_model=True)"
   ]
  }
 ],
 "metadata": {
  "kernelspec": {
   "display_name": "battery",
   "language": "python",
   "name": "python3"
  },
  "language_info": {
   "codemirror_mode": {
    "name": "ipython",
    "version": 3
   },
   "file_extension": ".py",
   "mimetype": "text/x-python",
   "name": "python",
   "nbconvert_exporter": "python",
   "pygments_lexer": "ipython3",
   "version": "3.12.10"
  }
 },
 "nbformat": 4,
 "nbformat_minor": 5
}
