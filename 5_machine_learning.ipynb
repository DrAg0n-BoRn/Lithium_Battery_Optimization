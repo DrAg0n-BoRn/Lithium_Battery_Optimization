{
 "cells": [
  {
   "cell_type": "markdown",
   "id": "8a5fc718",
   "metadata": {},
   "source": [
    "# Step 5: Machine Learning"
   ]
  },
  {
   "cell_type": "code",
   "execution_count": null,
   "id": "5e41a064",
   "metadata": {},
   "outputs": [],
   "source": [
    "from ml_tools.ensemble_learning import RegressionTreeModels, run_ensemble_pipeline\n",
    "from paths import MICE_DATASETS_DIR, VIF_DATASETS_DIR, FEATURE_ENG_DATASETS_DIR, ENSEMBLE_RESULTS_DIR, TRAIN_DATASETS_DIR, LOGS_DIR\n",
    "from helpers.constants import TARGETS\n",
    "from ml_tools.logger import custom_logger\n",
    "from ml_tools.utilities import train_dataset_orchestrator"
   ]
  },
  {
   "cell_type": "markdown",
   "id": "c6ffd8b8",
   "metadata": {},
   "source": [
    "## 1. Create Training Datasets"
   ]
  },
  {
   "cell_type": "code",
   "execution_count": null,
   "id": "a63486d9",
   "metadata": {},
   "outputs": [],
   "source": [
    "train_dataset_orchestrator(list_of_dirs=[FEATURE_ENG_DATASETS_DIR, MICE_DATASETS_DIR, VIF_DATASETS_DIR],\n",
    "                           target_columns=TARGETS,\n",
    "                           save_dir=TRAIN_DATASETS_DIR)"
   ]
  },
  {
   "cell_type": "markdown",
   "id": "45592b39",
   "metadata": {},
   "source": [
    "## 2. Configure Model Hyperparameters"
   ]
  },
  {
   "cell_type": "code",
   "execution_count": null,
   "id": "0b3a0108",
   "metadata": {},
   "outputs": [],
   "source": [
    "hyperparameters = {\n",
    "    \"L1_regularization\": 0,\n",
    "    \"L2_regularization\": 0,\n",
    "    \"learning_rate\": 0.001,\n",
    "    \"n_estimators\": 3000,   #xgb - lightgbm\n",
    "    \"max_depth\": 8,\n",
    "    \"subsample\": 0.8,\n",
    "    \"colsample_bytree\": 0.8,    #xgb - lightgbm\n",
    "    \"min_samples_leaf\": 50, #histgb\n",
    "    \"max_iter\": 1000,   #histgb\n",
    "    \"min_child_weight\": 3,  #xgb\n",
    "    \"gamma\": 1, #xgb\n",
    "    \"num_leaves\": 31,   #lightgbm\n",
    "    \"min_data_in_leaf\": 40  #lightgbm\n",
    "}\n",
    "\n",
    "factory_class = RegressionTreeModels(**hyperparameters)"
   ]
  },
  {
   "cell_type": "markdown",
   "id": "f9111442",
   "metadata": {},
   "source": [
    "## 3. Train Ensemble models"
   ]
  },
  {
   "cell_type": "code",
   "execution_count": null,
   "id": "76eeb59d",
   "metadata": {},
   "outputs": [],
   "source": [
    "run_ensemble_pipeline(datasets_dir=TRAIN_DATASETS_DIR,\n",
    "                      save_dir=ENSEMBLE_RESULTS_DIR,\n",
    "                      target_columns=TARGETS,\n",
    "                      model_object=factory_class,\n",
    "                      save_model=True)"
   ]
  }
 ],
 "metadata": {
  "kernelspec": {
   "display_name": "battery",
   "language": "python",
   "name": "python3"
  },
  "language_info": {
   "codemirror_mode": {
    "name": "ipython",
    "version": 3
   },
   "file_extension": ".py",
   "mimetype": "text/x-python",
   "name": "python",
   "nbconvert_exporter": "python",
   "pygments_lexer": "ipython3",
   "version": "3.12.10"
  }
 },
 "nbformat": 4,
 "nbformat_minor": 5
}
