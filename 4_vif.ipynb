{
 "cells": [
  {
   "cell_type": "markdown",
   "id": "4ee4baf6",
   "metadata": {},
   "source": [
    "# 4. Variance Inflation Factor (VIF)"
   ]
  },
  {
   "cell_type": "code",
   "execution_count": 1,
   "id": "b52dcf28",
   "metadata": {},
   "outputs": [],
   "source": [
    "from ml_tools.VIF_factor import compute_vif, compute_vif_multi, drop_vif_based\n",
    "from paths import MICE_IMPUTED_DATASETS_DIR, VIF_IMPUTED_DATASETS_DIR, VIF_METRICS_DIR\n",
    "from helpers.constants import TARGETS"
   ]
  },
  {
   "cell_type": "code",
   "execution_count": 2,
   "id": "d33fbafa",
   "metadata": {},
   "outputs": [
    {
     "name": "stdout",
     "output_type": "stream",
     "text": [
      "🗂️ CSV files found:\n",
      "\tengineered_dataset_MICE\n",
      "\n",
      "💿 Loaded dataset: 'engineered_dataset_MICE' with shape: (1220, 119)\n",
      "\tSaved VIF plot: 'engineered_dataset_MICE.svg'\n",
      "\tDropping 9 column(s) with VIF > 10.0: ['dopant_K', 'dopant_Se', 'dopant_Cr', 'molar_ratio_Se', 'molar_ratio_Cr', 'molar_ratio_K', 'molar_ratio_Cu', 'molar_ratio_Sb', 'dopant_Sb']\n",
      "✅ Saved dataset: 'engineered_dataset_MICE_VIF.csv' with shape: (1220, 110)\n"
     ]
    }
   ],
   "source": [
    "compute_vif_multi(input_directory=MICE_IMPUTED_DATASETS_DIR,\n",
    "                  output_plot_directory=VIF_METRICS_DIR,\n",
    "                  output_dataset_directory=VIF_IMPUTED_DATASETS_DIR,\n",
    "                  ignore_columns=TARGETS)"
   ]
  }
 ],
 "metadata": {
  "kernelspec": {
   "display_name": "battery",
   "language": "python",
   "name": "python3"
  },
  "language_info": {
   "codemirror_mode": {
    "name": "ipython",
    "version": 3
   },
   "file_extension": ".py",
   "mimetype": "text/x-python",
   "name": "python",
   "nbconvert_exporter": "python",
   "pygments_lexer": "ipython3",
   "version": "3.12.10"
  }
 },
 "nbformat": 4,
 "nbformat_minor": 5
}
