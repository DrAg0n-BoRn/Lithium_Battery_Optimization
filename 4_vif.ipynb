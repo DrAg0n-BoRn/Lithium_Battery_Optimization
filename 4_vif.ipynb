{
 "cells": [
  {
   "cell_type": "markdown",
   "id": "4ee4baf6",
   "metadata": {},
   "source": [
    "# 4. Variance Inflation Factor (VIF)"
   ]
  },
  {
   "cell_type": "code",
   "execution_count": null,
   "id": "b52dcf28",
   "metadata": {},
   "outputs": [],
   "source": [
    "from ml_tools.VIF_factor import compute_vif_multi\n",
    "from paths import MICE_DATASETS_DIR, VIF_DATASETS_DIR, VIF_METRICS_DIR, SERIALIZED_OBJECTS_DIR\n",
    "from helpers.constants import TARGETS\n",
    "from ml_tools.utilities import yield_dataframes_from_dir, serialize_object"
   ]
  },
  {
   "cell_type": "markdown",
   "id": "a5f3ffa7",
   "metadata": {},
   "source": [
    "## 1. Compute VIF and drop features"
   ]
  },
  {
   "cell_type": "code",
   "execution_count": null,
   "id": "d33fbafa",
   "metadata": {},
   "outputs": [],
   "source": [
    "compute_vif_multi(input_directory=MICE_DATASETS_DIR,\n",
    "                  output_plot_directory=VIF_METRICS_DIR,\n",
    "                  output_dataset_directory=VIF_DATASETS_DIR,\n",
    "                  ignore_columns=TARGETS)"
   ]
  },
  {
   "cell_type": "markdown",
   "id": "f4f38236",
   "metadata": {},
   "source": [
    "## 2. Save VIF-specific dataset information (Optional)"
   ]
  },
  {
   "cell_type": "code",
   "execution_count": null,
   "id": "e8a21a7c",
   "metadata": {},
   "outputs": [],
   "source": [
    "for df, df_name in yield_dataframes_from_dir(VIF_DATASETS_DIR):\n",
    "    feature_columns = [col_name for col_name in df.columns if col_name not in TARGETS]\n",
    "    serialize_object(obj=feature_columns, save_dir=SERIALIZED_OBJECTS_DIR, filename=\"FEAT_COLS_\" + df_name, raise_on_error=True)"
   ]
  }
 ],
 "metadata": {
  "kernelspec": {
   "display_name": "battery",
   "language": "python",
   "name": "python3"
  },
  "language_info": {
   "codemirror_mode": {
    "name": "ipython",
    "version": 3
   },
   "file_extension": ".py",
   "mimetype": "text/x-python",
   "name": "python",
   "nbconvert_exporter": "python",
   "pygments_lexer": "ipython3",
   "version": "3.12.10"
  }
 },
 "nbformat": 4,
 "nbformat_minor": 5
}
